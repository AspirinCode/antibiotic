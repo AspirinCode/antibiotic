{
 "cells": [
  {
   "cell_type": "markdown",
   "metadata": {},
   "source": [
    "Build a ChemProp model to predict antibiotic activity.  This notebook, and subsequent notebooks, are my attempt to reproduce the work in a recent paper from John Stokes and coworkers at the Broad Institute and MIT, [\"A Deep Learning Approach to Antibiotic Discovery\"](https://www.sciencedirect.com/science/article/pii/S0092867420301021)"
   ]
  },
  {
   "cell_type": "markdown",
   "metadata": {},
   "source": [
    "Setup the appropriate imports"
   ]
  },
  {
   "cell_type": "code",
   "execution_count": 1,
   "metadata": {},
   "outputs": [
    {
     "name": "stderr",
     "output_type": "stream",
     "text": [
      "RDKit WARNING: [17:14:08] Enabling RDKit 2019.09.3 jupyter extensions\n"
     ]
    }
   ],
   "source": [
    "import pandas as pd\n",
    "from rdkit import Chem\n",
    "from tqdm.notebook import tqdm"
   ]
  },
  {
   "cell_type": "markdown",
   "metadata": {},
   "source": [
    "Read the spreadsheet witht the data from Stokes et al"
   ]
  },
  {
   "cell_type": "code",
   "execution_count": 14,
   "metadata": {},
   "outputs": [],
   "source": [
    "df = pd.read_excel(\"mmc1.xlsx\",sheet_name=1,skiprows=1)"
   ]
  },
  {
   "cell_type": "markdown",
   "metadata": {},
   "source": [
    "Look at the first few lines from the dataframe"
   ]
  },
  {
   "cell_type": "code",
   "execution_count": 15,
   "metadata": {},
   "outputs": [
    {
     "data": {
      "text/html": [
       "<div>\n",
       "<style scoped>\n",
       "    .dataframe tbody tr th:only-of-type {\n",
       "        vertical-align: middle;\n",
       "    }\n",
       "\n",
       "    .dataframe tbody tr th {\n",
       "        vertical-align: top;\n",
       "    }\n",
       "\n",
       "    .dataframe thead th {\n",
       "        text-align: right;\n",
       "    }\n",
       "</style>\n",
       "<table border=\"1\" class=\"dataframe\">\n",
       "  <thead>\n",
       "    <tr style=\"text-align: right;\">\n",
       "      <th></th>\n",
       "      <th>Mean_Inhibition</th>\n",
       "      <th>SMILES</th>\n",
       "      <th>Name</th>\n",
       "      <th>Activity</th>\n",
       "    </tr>\n",
       "  </thead>\n",
       "  <tbody>\n",
       "    <tr>\n",
       "      <th>0</th>\n",
       "      <td>0.041572</td>\n",
       "      <td>Cc1cc(O)c(C(=O)NC(C(=O)NC2C(=O)N3C(C(=O)O)=C(C...</td>\n",
       "      <td>CEFPIRAMIDE</td>\n",
       "      <td>Active</td>\n",
       "    </tr>\n",
       "    <tr>\n",
       "      <th>1</th>\n",
       "      <td>0.041876</td>\n",
       "      <td>CON=C1CN(c2nc3c(cc2F)c(=O)c(C(=O)O)cn3C2CC2)CC...</td>\n",
       "      <td>GEMIFLOXACIN MESYLATE</td>\n",
       "      <td>Active</td>\n",
       "    </tr>\n",
       "    <tr>\n",
       "      <th>2</th>\n",
       "      <td>0.041916</td>\n",
       "      <td>CCC(C)CCCCC(=O)NC(CCN)C(=O)NC(C(=O)NC(CCN)C(=O...</td>\n",
       "      <td>POLYMYXIN B SULFATE</td>\n",
       "      <td>Active</td>\n",
       "    </tr>\n",
       "    <tr>\n",
       "      <th>3</th>\n",
       "      <td>0.041964</td>\n",
       "      <td>Cl.N=C(N)n1cccn1</td>\n",
       "      <td>PRAXADINE HYDROCHLORIDE</td>\n",
       "      <td>Active</td>\n",
       "    </tr>\n",
       "    <tr>\n",
       "      <th>4</th>\n",
       "      <td>0.042295</td>\n",
       "      <td>Cl.Cl.N=C(NCCCCCCNC(=N)NC(=N)Nc1ccc(Cl)cc1)NC(...</td>\n",
       "      <td>CHLORHEXIDINE DIHYDROCHLORIDE</td>\n",
       "      <td>Active</td>\n",
       "    </tr>\n",
       "  </tbody>\n",
       "</table>\n",
       "</div>"
      ],
      "text/plain": [
       "   Mean_Inhibition                                             SMILES  \\\n",
       "0         0.041572  Cc1cc(O)c(C(=O)NC(C(=O)NC2C(=O)N3C(C(=O)O)=C(C...   \n",
       "1         0.041876  CON=C1CN(c2nc3c(cc2F)c(=O)c(C(=O)O)cn3C2CC2)CC...   \n",
       "2         0.041916  CCC(C)CCCCC(=O)NC(CCN)C(=O)NC(C(=O)NC(CCN)C(=O...   \n",
       "3         0.041964                                   Cl.N=C(N)n1cccn1   \n",
       "4         0.042295  Cl.Cl.N=C(NCCCCCCNC(=N)NC(=N)Nc1ccc(Cl)cc1)NC(...   \n",
       "\n",
       "                            Name Activity  \n",
       "0                    CEFPIRAMIDE   Active  \n",
       "1          GEMIFLOXACIN MESYLATE   Active  \n",
       "2            POLYMYXIN B SULFATE   Active  \n",
       "3        PRAXADINE HYDROCHLORIDE   Active  \n",
       "4  CHLORHEXIDINE DIHYDROCHLORIDE   Active  "
      ]
     },
     "execution_count": 15,
     "metadata": {},
     "output_type": "execute_result"
    }
   ],
   "source": [
    "df.head()"
   ]
  },
  {
   "cell_type": "markdown",
   "metadata": {},
   "source": [
    "Make a barplot of the activity distribution, notice that the dataset is imbalanced."
   ]
  },
  {
   "cell_type": "code",
   "execution_count": 17,
   "metadata": {},
   "outputs": [
    {
     "data": {
      "image/png": "[encoded data removed]",
      "text/plain": [
       "<Figure size 432x288 with 1 Axes>"
      ]
     },
     "metadata": {
      "needs_background": "light"
     },
     "output_type": "display_data"
    }
   ],
   "source": [
    "ax = df.Activity.value_counts().plot(kind=\"bar\")"
   ]
  },
  {
   "cell_type": "markdown",
   "metadata": {},
   "source": [
    "Create a new field which represents the activity as an integer (Active = 1, Inactive = 0)"
   ]
  },
  {
   "cell_type": "code",
   "execution_count": 19,
   "metadata": {},
   "outputs": [],
   "source": [
    "df['active'] = [int(x == \"Active\") for x in df.Activity]"
   ]
  },
  {
   "cell_type": "code",
   "execution_count": 20,
   "metadata": {},
   "outputs": [
    {
     "data": {
      "text/html": [
       "<div>\n",
       "<style scoped>\n",
       "    .dataframe tbody tr th:only-of-type {\n",
       "        vertical-align: middle;\n",
       "    }\n",
       "\n",
       "    .dataframe tbody tr th {\n",
       "        vertical-align: top;\n",
       "    }\n",
       "\n",
       "    .dataframe thead th {\n",
       "        text-align: right;\n",
       "    }\n",
       "</style>\n",
       "<table border=\"1\" class=\"dataframe\">\n",
       "  <thead>\n",
       "    <tr style=\"text-align: right;\">\n",
       "      <th></th>\n",
       "      <th>Mean_Inhibition</th>\n",
       "      <th>SMILES</th>\n",
       "      <th>Name</th>\n",
       "      <th>Activity</th>\n",
       "      <th>active</th>\n",
       "    </tr>\n",
       "  </thead>\n",
       "  <tbody>\n",
       "    <tr>\n",
       "      <th>0</th>\n",
       "      <td>0.041572</td>\n",
       "      <td>Cc1cc(O)c(C(=O)NC(C(=O)NC2C(=O)N3C(C(=O)O)=C(C...</td>\n",
       "      <td>CEFPIRAMIDE</td>\n",
       "      <td>Active</td>\n",
       "      <td>1</td>\n",
       "    </tr>\n",
       "    <tr>\n",
       "      <th>1</th>\n",
       "      <td>0.041876</td>\n",
       "      <td>CON=C1CN(c2nc3c(cc2F)c(=O)c(C(=O)O)cn3C2CC2)CC...</td>\n",
       "      <td>GEMIFLOXACIN MESYLATE</td>\n",
       "      <td>Active</td>\n",
       "      <td>1</td>\n",
       "    </tr>\n",
       "    <tr>\n",
       "      <th>2</th>\n",
       "      <td>0.041916</td>\n",
       "      <td>CCC(C)CCCCC(=O)NC(CCN)C(=O)NC(C(=O)NC(CCN)C(=O...</td>\n",
       "      <td>POLYMYXIN B SULFATE</td>\n",
       "      <td>Active</td>\n",
       "      <td>1</td>\n",
       "    </tr>\n",
       "    <tr>\n",
       "      <th>3</th>\n",
       "      <td>0.041964</td>\n",
       "      <td>Cl.N=C(N)n1cccn1</td>\n",
       "      <td>PRAXADINE HYDROCHLORIDE</td>\n",
       "      <td>Active</td>\n",
       "      <td>1</td>\n",
       "    </tr>\n",
       "    <tr>\n",
       "      <th>4</th>\n",
       "      <td>0.042295</td>\n",
       "      <td>Cl.Cl.N=C(NCCCCCCNC(=N)NC(=N)Nc1ccc(Cl)cc1)NC(...</td>\n",
       "      <td>CHLORHEXIDINE DIHYDROCHLORIDE</td>\n",
       "      <td>Active</td>\n",
       "      <td>1</td>\n",
       "    </tr>\n",
       "  </tbody>\n",
       "</table>\n",
       "</div>"
      ],
      "text/plain": [
       "   Mean_Inhibition                                             SMILES  \\\n",
       "0         0.041572  Cc1cc(O)c(C(=O)NC(C(=O)NC2C(=O)N3C(C(=O)O)=C(C...   \n",
       "1         0.041876  CON=C1CN(c2nc3c(cc2F)c(=O)c(C(=O)O)cn3C2CC2)CC...   \n",
       "2         0.041916  CCC(C)CCCCC(=O)NC(CCN)C(=O)NC(C(=O)NC(CCN)C(=O...   \n",
       "3         0.041964                                   Cl.N=C(N)n1cccn1   \n",
       "4         0.042295  Cl.Cl.N=C(NCCCCCCNC(=N)NC(=N)Nc1ccc(Cl)cc1)NC(...   \n",
       "\n",
       "                            Name Activity  active  \n",
       "0                    CEFPIRAMIDE   Active       1  \n",
       "1          GEMIFLOXACIN MESYLATE   Active       1  \n",
       "2            POLYMYXIN B SULFATE   Active       1  \n",
       "3        PRAXADINE HYDROCHLORIDE   Active       1  \n",
       "4  CHLORHEXIDINE DIHYDROCHLORIDE   Active       1  "
      ]
     },
     "execution_count": 20,
     "metadata": {},
     "output_type": "execute_result"
    }
   ],
   "source": [
    "df.head()"
   ]
  },
  {
   "cell_type": "markdown",
   "metadata": {},
   "source": [
    "Let's double check to ensure that we have the correct number of active and inactive compounds"
   ]
  },
  {
   "cell_type": "code",
   "execution_count": 10,
   "metadata": {},
   "outputs": [
    {
     "data": {
      "text/plain": [
       "(Inactive    2215\n",
       " Active       120\n",
       " Name: Activity, dtype: int64,\n",
       " 0    2215\n",
       " 1     120\n",
       " Name: active, dtype: int64)"
      ]
     },
     "execution_count": 10,
     "metadata": {},
     "output_type": "execute_result"
    }
   ],
   "source": [
    "df.Activity.value_counts(),df.active.value_counts()"
   ]
  },
  {
   "cell_type": "markdown",
   "metadata": {},
   "source": [
    "Write SMILES and active fields out in a csv file"
   ]
  },
  {
   "cell_type": "code",
   "execution_count": 12,
   "metadata": {},
   "outputs": [],
   "source": [
    "df[[\"SMILES\",\"active\"]].to_csv(\"mmcl.csv\",index=False)"
   ]
  },
  {
   "cell_type": "markdown",
   "metadata": {},
   "source": [
    "Uncomment the cell below to run the training.  I think I've reproduced the hyperparameters from the Cell paper, but I may have missed something or gotten something wrong"
   ]
  },
  {
   "cell_type": "code",
   "execution_count": 13,
   "metadata": {},
   "outputs": [],
   "source": [
    "#%python ~/software/chemprop/train.py --data_path mmcl.csv --dataset_type classification --save_dir chemprop_train --gpu 0 --features_generator rdkit_2d_normalized --no_features_scaling --depth 5 --hidden_size 1600 --ffn_num_layers 1 --dropout 0.35 --ensemble_size 20"
   ]
  },
  {
   "cell_type": "code",
   "execution_count": null,
   "metadata": {},
   "outputs": [],
   "source": []
  }
 ],
 "metadata": {
  "kernelspec": {
   "display_name": "Environment (conda_chemprop)",
   "language": "python",
   "name": "conda_chemprop"
  },
  "language_info": {
   "codemirror_mode": {
    "name": "ipython",
    "version": 3
   },
   "file_extension": ".py",
   "mimetype": "text/x-python",
   "name": "python",
   "nbconvert_exporter": "python",
   "pygments_lexer": "ipython3",
   "version": "3.6.7"
  }
 },
 "nbformat": 4,
 "nbformat_minor": 4
}
