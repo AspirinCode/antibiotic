{
 "cells": [
  {
   "cell_type": "markdown",
   "metadata": {},
   "source": [
    "Use the ChemProp model we created in the previous notebook to generate predictions for the Broad Institute's drug repurposing set. "
   ]
  },
  {
   "cell_type": "markdown",
   "metadata": {},
   "source": [
    "Necessary Python imports "
   ]
  },
  {
   "cell_type": "code",
   "execution_count": 1,
   "metadata": {},
   "outputs": [
    {
     "name": "stderr",
     "output_type": "stream",
     "text": [
      "RDKit WARNING: [17:09:48] Enabling RDKit 2019.09.3 jupyter extensions\n"
     ]
    }
   ],
   "source": [
    "import pandas as pd\n",
    "from rdkit import Chem\n",
    "from tqdm.notebook import tqdm"
   ]
  },
  {
   "cell_type": "markdown",
   "metadata": {},
   "source": [
    "Get the data from the web"
   ]
  },
  {
   "cell_type": "code",
   "execution_count": 2,
   "metadata": {},
   "outputs": [],
   "source": [
    "url = \"https://s3.amazonaws.com/data.clue.io/repurposing/downloads/repurposing_samples_20180907.txt\"\n",
    "repurposing_df = pd.read_csv(url, comment = \"!\", sep=\"\\t\")"
   ]
  },
  {
   "cell_type": "markdown",
   "metadata": {},
   "source": [
    "Look at the first few lines of the data table"
   ]
  },
  {
   "cell_type": "code",
   "execution_count": 3,
   "metadata": {},
   "outputs": [
    {
     "data": {
      "text/html": [
       "<div>\n",
       "<style scoped>\n",
       "    .dataframe tbody tr th:only-of-type {\n",
       "        vertical-align: middle;\n",
       "    }\n",
       "\n",
       "    .dataframe tbody tr th {\n",
       "        vertical-align: top;\n",
       "    }\n",
       "\n",
       "    .dataframe thead th {\n",
       "        text-align: right;\n",
       "    }\n",
       "</style>\n",
       "<table border=\"1\" class=\"dataframe\">\n",
       "  <thead>\n",
       "    <tr style=\"text-align: right;\">\n",
       "      <th></th>\n",
       "      <th>broad_id</th>\n",
       "      <th>pert_iname</th>\n",
       "      <th>qc_incompatible</th>\n",
       "      <th>purity</th>\n",
       "      <th>vendor</th>\n",
       "      <th>catalog_no</th>\n",
       "      <th>vendor_name</th>\n",
       "      <th>expected_mass</th>\n",
       "      <th>smiles</th>\n",
       "      <th>InChIKey</th>\n",
       "      <th>pubchem_cid</th>\n",
       "      <th>deprecated_broad_id</th>\n",
       "    </tr>\n",
       "  </thead>\n",
       "  <tbody>\n",
       "    <tr>\n",
       "      <th>0</th>\n",
       "      <td>BRD-K89787693-001-01-1</td>\n",
       "      <td>[sar9,met(o2)11]-substance-p</td>\n",
       "      <td>0</td>\n",
       "      <td>NaN</td>\n",
       "      <td>Tocris</td>\n",
       "      <td>1178</td>\n",
       "      <td>2-({5-amino-2-[({1-[6-amino-2-({[1-(2-amino-5-...</td>\n",
       "      <td>1,392.73</td>\n",
       "      <td>CC(C)C[C@H](NC(=O)CN(C)C(=O)[C@H](Cc1ccccc1)NC...</td>\n",
       "      <td>OUPXSLGGCPUZJJ-SARDKLJWSA-N</td>\n",
       "      <td>163829.0</td>\n",
       "      <td>NaN</td>\n",
       "    </tr>\n",
       "    <tr>\n",
       "      <th>1</th>\n",
       "      <td>BRD-K88956297-003-01-9</td>\n",
       "      <td>1-((Z)-3-Chloroallyl)-1,3,5,7-tetraazaadamanta...</td>\n",
       "      <td>0</td>\n",
       "      <td>94.41</td>\n",
       "      <td>BidePharm</td>\n",
       "      <td>BD51690</td>\n",
       "      <td>1-((Z)-3-Chloroallyl)-1,3,5,7-tetraazaadamanta...</td>\n",
       "      <td>215.106</td>\n",
       "      <td>Cl\\C=C/C[N+]12CN3CN(CN(C3)C1)C2</td>\n",
       "      <td>LDLCEGCJYSDJLX-UPHRSURJSA-N</td>\n",
       "      <td>5846454.0</td>\n",
       "      <td>NaN</td>\n",
       "    </tr>\n",
       "    <tr>\n",
       "      <th>2</th>\n",
       "      <td>BRD-A86415025-050-01-0</td>\n",
       "      <td>1-(1,2-Diphenylethyl)piperidine-(+/-)</td>\n",
       "      <td>0</td>\n",
       "      <td>98.04</td>\n",
       "      <td>Tocris</td>\n",
       "      <td>360</td>\n",
       "      <td>(?)-1-(1,2-Diphenylethyl)piperidine maleate</td>\n",
       "      <td>265.183</td>\n",
       "      <td>C(C(N1CCCCC1)c1ccccc1)c1ccccc1</td>\n",
       "      <td>JQWJJJYHVHNXJH-UHFFFAOYSA-N</td>\n",
       "      <td>206666.0</td>\n",
       "      <td>NaN</td>\n",
       "    </tr>\n",
       "    <tr>\n",
       "      <th>3</th>\n",
       "      <td>BRD-A95802703-001-01-0</td>\n",
       "      <td>1-(2-chloro-5-methylphenoxy)-3-(isopropylamino...</td>\n",
       "      <td>0</td>\n",
       "      <td>92.38</td>\n",
       "      <td>Enamine</td>\n",
       "      <td>Z1672746675</td>\n",
       "      <td>1-(2-chloro-5-methylphenoxy)-3-(isopropylamino...</td>\n",
       "      <td>257.118</td>\n",
       "      <td>CC(C)NCC(O)COc1cc(C)ccc1Cl</td>\n",
       "      <td>NJEIOWSBPCZKTL-UHFFFAOYSA-N</td>\n",
       "      <td>20497006.0</td>\n",
       "      <td>NaN</td>\n",
       "    </tr>\n",
       "    <tr>\n",
       "      <th>4</th>\n",
       "      <td>BRD-K96055017-003-02-7</td>\n",
       "      <td>1-acetyl-4-methylpiperazine</td>\n",
       "      <td>0</td>\n",
       "      <td>90.28</td>\n",
       "      <td>Tocris</td>\n",
       "      <td>351</td>\n",
       "      <td>1-Acetyl-4-methylpiperazine hydrochloride</td>\n",
       "      <td>142.111</td>\n",
       "      <td>CN1CCN(CC1)C(C)=O</td>\n",
       "      <td>YSDBJKNOEWSFGA-UHFFFAOYSA-N</td>\n",
       "      <td>550758.0</td>\n",
       "      <td>NaN</td>\n",
       "    </tr>\n",
       "  </tbody>\n",
       "</table>\n",
       "</div>"
      ],
      "text/plain": [
       "                 broad_id                                         pert_iname  \\\n",
       "0  BRD-K89787693-001-01-1                       [sar9,met(o2)11]-substance-p   \n",
       "1  BRD-K88956297-003-01-9  1-((Z)-3-Chloroallyl)-1,3,5,7-tetraazaadamanta...   \n",
       "2  BRD-A86415025-050-01-0              1-(1,2-Diphenylethyl)piperidine-(+/-)   \n",
       "3  BRD-A95802703-001-01-0  1-(2-chloro-5-methylphenoxy)-3-(isopropylamino...   \n",
       "4  BRD-K96055017-003-02-7                        1-acetyl-4-methylpiperazine   \n",
       "\n",
       "   qc_incompatible  purity     vendor   catalog_no  \\\n",
       "0                0     NaN     Tocris         1178   \n",
       "1                0   94.41  BidePharm      BD51690   \n",
       "2                0   98.04     Tocris          360   \n",
       "3                0   92.38    Enamine  Z1672746675   \n",
       "4                0   90.28     Tocris          351   \n",
       "\n",
       "                                         vendor_name expected_mass  \\\n",
       "0  2-({5-amino-2-[({1-[6-amino-2-({[1-(2-amino-5-...      1,392.73   \n",
       "1  1-((Z)-3-Chloroallyl)-1,3,5,7-tetraazaadamanta...       215.106   \n",
       "2        (?)-1-(1,2-Diphenylethyl)piperidine maleate       265.183   \n",
       "3  1-(2-chloro-5-methylphenoxy)-3-(isopropylamino...       257.118   \n",
       "4          1-Acetyl-4-methylpiperazine hydrochloride       142.111   \n",
       "\n",
       "                                              smiles  \\\n",
       "0  CC(C)C[C@H](NC(=O)CN(C)C(=O)[C@H](Cc1ccccc1)NC...   \n",
       "1                    Cl\\C=C/C[N+]12CN3CN(CN(C3)C1)C2   \n",
       "2                     C(C(N1CCCCC1)c1ccccc1)c1ccccc1   \n",
       "3                         CC(C)NCC(O)COc1cc(C)ccc1Cl   \n",
       "4                                  CN1CCN(CC1)C(C)=O   \n",
       "\n",
       "                      InChIKey  pubchem_cid deprecated_broad_id  \n",
       "0  OUPXSLGGCPUZJJ-SARDKLJWSA-N     163829.0                 NaN  \n",
       "1  LDLCEGCJYSDJLX-UPHRSURJSA-N    5846454.0                 NaN  \n",
       "2  JQWJJJYHVHNXJH-UHFFFAOYSA-N     206666.0                 NaN  \n",
       "3  NJEIOWSBPCZKTL-UHFFFAOYSA-N   20497006.0                 NaN  \n",
       "4  YSDBJKNOEWSFGA-UHFFFAOYSA-N     550758.0                 NaN  "
      ]
     },
     "execution_count": 3,
     "metadata": {},
     "output_type": "execute_result"
    }
   ],
   "source": [
    "repurposing_df.head()"
   ]
  },
  {
   "cell_type": "markdown",
   "metadata": {},
   "source": [
    "How many rows do we have in the table?"
   ]
  },
  {
   "cell_type": "code",
   "execution_count": 4,
   "metadata": {},
   "outputs": [
    {
     "data": {
      "text/plain": [
       "(10147, 12)"
      ]
     },
     "execution_count": 4,
     "metadata": {},
     "output_type": "execute_result"
    }
   ],
   "source": [
    "repurposing_df.shape"
   ]
  },
  {
   "cell_type": "markdown",
   "metadata": {},
   "source": [
    "How many duplicate molecules are in the table?"
   ]
  },
  {
   "cell_type": "code",
   "execution_count": 5,
   "metadata": {},
   "outputs": [
    {
     "data": {
      "text/plain": [
       "6245"
      ]
     },
     "execution_count": 5,
     "metadata": {},
     "output_type": "execute_result"
    }
   ],
   "source": [
    "len(repurposing_df.smiles.unique())"
   ]
  },
  {
   "cell_type": "markdown",
   "metadata": {},
   "source": [
    "Looks like we have quite a few duplicates, let's get rid of them"
   ]
  },
  {
   "cell_type": "code",
   "execution_count": 6,
   "metadata": {},
   "outputs": [],
   "source": [
    "repurposing_df.drop_duplicates('smiles',inplace=True)"
   ]
  },
  {
   "cell_type": "markdown",
   "metadata": {},
   "source": [
    "Let's make sure that we don't have any null values in the SMILES column.  Note that I wasn't quite so clever the first time I did this, and ChemProp puked on the input. "
   ]
  },
  {
   "cell_type": "code",
   "execution_count": 7,
   "metadata": {},
   "outputs": [
    {
     "data": {
      "text/plain": [
       "False    6244\n",
       "True        1\n",
       "Name: smiles, dtype: int64"
      ]
     },
     "execution_count": 7,
     "metadata": {},
     "output_type": "execute_result"
    }
   ],
   "source": [
    "repurposing_df.smiles.isnull().value_counts()"
   ]
  },
  {
   "cell_type": "markdown",
   "metadata": {},
   "source": [
    "Oops, we have one null value, let's get rid of it. "
   ]
  },
  {
   "cell_type": "code",
   "execution_count": 8,
   "metadata": {},
   "outputs": [],
   "source": [
    "repurposing_df.dropna(axis=0,subset=['smiles'],inplace=True)"
   ]
  },
  {
   "cell_type": "markdown",
   "metadata": {},
   "source": [
    "Let's check again and make sure we have the right number of rows in the table. "
   ]
  },
  {
   "cell_type": "code",
   "execution_count": 9,
   "metadata": {},
   "outputs": [
    {
     "data": {
      "text/plain": [
       "(6244, 12)"
      ]
     },
     "execution_count": 9,
     "metadata": {},
     "output_type": "execute_result"
    }
   ],
   "source": [
    "repurposing_df.shape"
   ]
  },
  {
   "cell_type": "markdown",
   "metadata": {},
   "source": [
    "Write out a file with just the SMILES"
   ]
  },
  {
   "cell_type": "code",
   "execution_count": 10,
   "metadata": {},
   "outputs": [],
   "source": [
    "repurposing_df[['smiles']].to_csv(\"broad_repurposing_unqiue.csv\",index=False)"
   ]
  },
  {
   "cell_type": "markdown",
   "metadata": {},
   "source": [
    "Generate the predictions with ChemProp.  Uncomment the line below if you really want to run this. "
   ]
  },
  {
   "cell_type": "code",
   "execution_count": 11,
   "metadata": {},
   "outputs": [],
   "source": [
    "#%python ~/software/chemprop/predict.py --test_path broad_repurposing_unqiue.csv --checkpoint_dir chemprop_train --preds_path broad_pred.csv --features_generator rdkit_2d_normalized --no_features_scaling --gpu 0"
   ]
  },
  {
   "cell_type": "markdown",
   "metadata": {},
   "source": [
    "Read the results from predict.py"
   ]
  },
  {
   "cell_type": "code",
   "execution_count": 12,
   "metadata": {},
   "outputs": [],
   "source": [
    "result_df = pd.read_csv(\"broad_pred.csv\")"
   ]
  },
  {
   "cell_type": "markdown",
   "metadata": {},
   "source": [
    "Look at the first few lines"
   ]
  },
  {
   "cell_type": "code",
   "execution_count": 13,
   "metadata": {},
   "outputs": [
    {
     "data": {
      "text/html": [
       "<div>\n",
       "<style scoped>\n",
       "    .dataframe tbody tr th:only-of-type {\n",
       "        vertical-align: middle;\n",
       "    }\n",
       "\n",
       "    .dataframe tbody tr th {\n",
       "        vertical-align: top;\n",
       "    }\n",
       "\n",
       "    .dataframe thead th {\n",
       "        text-align: right;\n",
       "    }\n",
       "</style>\n",
       "<table border=\"1\" class=\"dataframe\">\n",
       "  <thead>\n",
       "    <tr style=\"text-align: right;\">\n",
       "      <th></th>\n",
       "      <th>smiles</th>\n",
       "      <th>active</th>\n",
       "    </tr>\n",
       "  </thead>\n",
       "  <tbody>\n",
       "    <tr>\n",
       "      <th>0</th>\n",
       "      <td>CC(C)C[C@H](NC(=O)CN(C)C(=O)[C@H](Cc1ccccc1)NC...</td>\n",
       "      <td>0.079717</td>\n",
       "    </tr>\n",
       "    <tr>\n",
       "      <th>1</th>\n",
       "      <td>Cl\\C=C/C[N+]12CN3CN(CN(C3)C1)C2</td>\n",
       "      <td>0.007592</td>\n",
       "    </tr>\n",
       "    <tr>\n",
       "      <th>2</th>\n",
       "      <td>C(C(N1CCCCC1)c1ccccc1)c1ccccc1</td>\n",
       "      <td>0.005925</td>\n",
       "    </tr>\n",
       "    <tr>\n",
       "      <th>3</th>\n",
       "      <td>CC(C)NCC(O)COc1cc(C)ccc1Cl</td>\n",
       "      <td>0.013894</td>\n",
       "    </tr>\n",
       "    <tr>\n",
       "      <th>4</th>\n",
       "      <td>CN1CCN(CC1)C(C)=O</td>\n",
       "      <td>0.213774</td>\n",
       "    </tr>\n",
       "  </tbody>\n",
       "</table>\n",
       "</div>"
      ],
      "text/plain": [
       "                                              smiles    active\n",
       "0  CC(C)C[C@H](NC(=O)CN(C)C(=O)[C@H](Cc1ccccc1)NC...  0.079717\n",
       "1                    Cl\\C=C/C[N+]12CN3CN(CN(C3)C1)C2  0.007592\n",
       "2                     C(C(N1CCCCC1)c1ccccc1)c1ccccc1  0.005925\n",
       "3                         CC(C)NCC(O)COc1cc(C)ccc1Cl  0.013894\n",
       "4                                  CN1CCN(CC1)C(C)=O  0.213774"
      ]
     },
     "execution_count": 13,
     "metadata": {},
     "output_type": "execute_result"
    }
   ],
   "source": [
    "result_df.head()"
   ]
  },
  {
   "cell_type": "markdown",
   "metadata": {},
   "source": [
    "Sort the data based on the \"active\" column"
   ]
  },
  {
   "cell_type": "code",
   "execution_count": 14,
   "metadata": {},
   "outputs": [],
   "source": [
    "result_df.sort_values(\"active\",ascending=False,inplace=True)"
   ]
  },
  {
   "cell_type": "markdown",
   "metadata": {},
   "source": [
    "Add a ranking column"
   ]
  },
  {
   "cell_type": "code",
   "execution_count": 15,
   "metadata": {},
   "outputs": [],
   "source": [
    "result_df['rank'] = range(0,result_df.shape[0])"
   ]
  },
  {
   "cell_type": "code",
   "execution_count": 16,
   "metadata": {},
   "outputs": [
    {
     "data": {
      "text/html": [
       "<div>\n",
       "<style scoped>\n",
       "    .dataframe tbody tr th:only-of-type {\n",
       "        vertical-align: middle;\n",
       "    }\n",
       "\n",
       "    .dataframe tbody tr th {\n",
       "        vertical-align: top;\n",
       "    }\n",
       "\n",
       "    .dataframe thead th {\n",
       "        text-align: right;\n",
       "    }\n",
       "</style>\n",
       "<table border=\"1\" class=\"dataframe\">\n",
       "  <thead>\n",
       "    <tr style=\"text-align: right;\">\n",
       "      <th></th>\n",
       "      <th>smiles</th>\n",
       "      <th>active</th>\n",
       "      <th>rank</th>\n",
       "    </tr>\n",
       "  </thead>\n",
       "  <tbody>\n",
       "    <tr>\n",
       "      <th>4168</th>\n",
       "      <td>C[C@H]1CN(C[C@@H](C)N1)c1c(F)c(F)c2c(c1F)n(cc(...</td>\n",
       "      <td>0.954957</td>\n",
       "      <td>0</td>\n",
       "    </tr>\n",
       "    <tr>\n",
       "      <th>5311</th>\n",
       "      <td>C[C@H]1CN(C[C@@H](C)N1)c1c(F)c(N)c2c(c1F)n(cc(...</td>\n",
       "      <td>0.953678</td>\n",
       "      <td>1</td>\n",
       "    </tr>\n",
       "    <tr>\n",
       "      <th>1294</th>\n",
       "      <td>CO[C@]1(NC(=O)C2SC(S2)=C(C(N)=O)C(O)=O)C2SCC(C...</td>\n",
       "      <td>0.948171</td>\n",
       "      <td>2</td>\n",
       "    </tr>\n",
       "    <tr>\n",
       "      <th>3330</th>\n",
       "      <td>CCn1cc(C(O)=O)c(=O)c2cc(F)c(N3CCNC(C)C3)c(F)c12</td>\n",
       "      <td>0.947444</td>\n",
       "      <td>3</td>\n",
       "    </tr>\n",
       "    <tr>\n",
       "      <th>2387</th>\n",
       "      <td>CN1CCN(CC1)c1c(F)cc2c(c1F)n(CCF)cc(C(O)=O)c2=O</td>\n",
       "      <td>0.945202</td>\n",
       "      <td>4</td>\n",
       "    </tr>\n",
       "  </tbody>\n",
       "</table>\n",
       "</div>"
      ],
      "text/plain": [
       "                                                 smiles    active  rank\n",
       "4168  C[C@H]1CN(C[C@@H](C)N1)c1c(F)c(F)c2c(c1F)n(cc(...  0.954957     0\n",
       "5311  C[C@H]1CN(C[C@@H](C)N1)c1c(F)c(N)c2c(c1F)n(cc(...  0.953678     1\n",
       "1294  CO[C@]1(NC(=O)C2SC(S2)=C(C(N)=O)C(O)=O)C2SCC(C...  0.948171     2\n",
       "3330    CCn1cc(C(O)=O)c(=O)c2cc(F)c(N3CCNC(C)C3)c(F)c12  0.947444     3\n",
       "2387     CN1CCN(CC1)c1c(F)cc2c(c1F)n(CCF)cc(C(O)=O)c2=O  0.945202     4"
      ]
     },
     "execution_count": 16,
     "metadata": {},
     "output_type": "execute_result"
    }
   ],
   "source": [
    "result_df.head()"
   ]
  },
  {
   "cell_type": "markdown",
   "metadata": {},
   "source": [
    "Now let's see where Halicin ranks based on our ML model.  We will do a substructure search for Halicin.  In order to do this, we will first create a molecule column in our results table."
   ]
  },
  {
   "cell_type": "code",
   "execution_count": 21,
   "metadata": {},
   "outputs": [
    {
     "data": {
      "application/vnd.jupyter.widget-view+json": {
       "model_id": "c31b842d827045f89a0301be1d15ab94",
       "version_major": 2,
       "version_minor": 0
      },
      "text/plain": [
       "HBox(children=(FloatProgress(value=0.0, max=6244.0), HTML(value='')))"
      ]
     },
     "metadata": {},
     "output_type": "display_data"
    },
    {
     "name": "stdout",
     "output_type": "stream",
     "text": [
      "\n"
     ]
    }
   ],
   "source": [
    "result_df['mol'] = [Chem.MolFromSmiles(x) for x in tqdm(result_df.smiles)]"
   ]
  },
  {
   "cell_type": "markdown",
   "metadata": {},
   "source": [
    "Create a SMARTS for Halicin so that we can do the substructure search. "
   ]
  },
  {
   "cell_type": "code",
   "execution_count": 22,
   "metadata": {},
   "outputs": [],
   "source": [
    "halicin = Chem.MolFromSmarts(\"Nc1nnc(Sc2ncc(s2)[N+]([O-])=O)s1\")"
   ]
  },
  {
   "cell_type": "code",
   "execution_count": 23,
   "metadata": {},
   "outputs": [
    {
     "data": {
      "image/png": "[encoded data removed]",
      "text/plain": [
       "<rdkit.Chem.rdchem.Mol at 0x7f64020a9530>"
      ]
     },
     "execution_count": 23,
     "metadata": {},
     "output_type": "execute_result"
    }
   ],
   "source": [
    "halicin"
   ]
  },
  {
   "cell_type": "markdown",
   "metadata": {},
   "source": [
    "Do the substructure search"
   ]
  },
  {
   "cell_type": "code",
   "execution_count": 24,
   "metadata": {},
   "outputs": [
    {
     "data": {
      "application/vnd.jupyter.widget-view+json": {
       "model_id": "919ab7381bc14cc49c8a6a75dd7b5514",
       "version_major": 2,
       "version_minor": 0
      },
      "text/plain": [
       "HBox(children=(FloatProgress(value=0.0, max=6244.0), HTML(value='')))"
      ]
     },
     "metadata": {},
     "output_type": "display_data"
    },
    {
     "name": "stdout",
     "output_type": "stream",
     "text": [
      "\n"
     ]
    }
   ],
   "source": [
    "match_list = [x.HasSubstructMatch(halicin) for x in tqdm(result_df.mol)]"
   ]
  },
  {
   "cell_type": "markdown",
   "metadata": {},
   "source": [
    "Create a new column with the substructure search results"
   ]
  },
  {
   "cell_type": "code",
   "execution_count": 25,
   "metadata": {},
   "outputs": [],
   "source": [
    "result_df['match'] = match_list"
   ]
  },
  {
   "cell_type": "markdown",
   "metadata": {},
   "source": [
    "Find the row with Halicin"
   ]
  },
  {
   "cell_type": "code",
   "execution_count": 26,
   "metadata": {},
   "outputs": [
    {
     "data": {
      "text/html": [
       "<div>\n",
       "<style scoped>\n",
       "    .dataframe tbody tr th:only-of-type {\n",
       "        vertical-align: middle;\n",
       "    }\n",
       "\n",
       "    .dataframe tbody tr th {\n",
       "        vertical-align: top;\n",
       "    }\n",
       "\n",
       "    .dataframe thead th {\n",
       "        text-align: right;\n",
       "    }\n",
       "</style>\n",
       "<table border=\"1\" class=\"dataframe\">\n",
       "  <thead>\n",
       "    <tr style=\"text-align: right;\">\n",
       "      <th></th>\n",
       "      <th>smiles</th>\n",
       "      <th>active</th>\n",
       "      <th>rank</th>\n",
       "      <th>mol</th>\n",
       "      <th>match</th>\n",
       "    </tr>\n",
       "  </thead>\n",
       "  <tbody>\n",
       "    <tr>\n",
       "      <th>5380</th>\n",
       "      <td>Nc1nnc(Sc2ncc(s2)[N+]([O-])=O)s1</td>\n",
       "      <td>0.443578</td>\n",
       "      <td>119</td>\n",
       "      <td>&lt;rdkit.Chem.rdchem.Mol object at 0x7f6401db8490&gt;</td>\n",
       "      <td>True</td>\n",
       "    </tr>\n",
       "  </tbody>\n",
       "</table>\n",
       "</div>"
      ],
      "text/plain": [
       "                                smiles    active  rank  \\\n",
       "5380  Nc1nnc(Sc2ncc(s2)[N+]([O-])=O)s1  0.443578   119   \n",
       "\n",
       "                                                   mol  match  \n",
       "5380  <rdkit.Chem.rdchem.Mol object at 0x7f6401db8490>   True  "
      ]
     },
     "execution_count": 26,
     "metadata": {},
     "output_type": "execute_result"
    }
   ],
   "source": [
    "result_df.query(\"match\")"
   ]
  },
  {
   "cell_type": "markdown",
   "metadata": {},
   "source": [
    "The rank order of Halicin based on our model was 120, while in the paper it was in the top 99, pretty close. "
   ]
  },
  {
   "cell_type": "code",
   "execution_count": null,
   "metadata": {},
   "outputs": [],
   "source": []
  }
 ],
 "metadata": {
  "kernelspec": {
   "display_name": "Environment (conda_chemprop)",
   "language": "python",
   "name": "conda_chemprop"
  },
  "language_info": {
   "codemirror_mode": {
    "name": "ipython",
    "version": 3
   },
   "file_extension": ".py",
   "mimetype": "text/x-python",
   "name": "python",
   "nbconvert_exporter": "python",
   "pygments_lexer": "ipython3",
   "version": "3.6.7"
  }
 },
 "nbformat": 4,
 "nbformat_minor": 2
}
