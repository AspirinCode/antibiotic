{
 "cells": [
  {
   "cell_type": "code",
   "execution_count": 138,
   "metadata": {},
   "outputs": [],
   "source": [
    "from xgboost import XGBClassifier\n",
    "import pandas as pd\n",
    "from rdkit import Chem\n",
    "from descriptastorus.descriptors.DescriptorGenerator import MakeGenerator\n",
    "from tqdm.notebook import tqdm\n",
    "from sklearn.model_selection import train_test_split\n",
    "import numpy as np\n",
    "import seaborn as sns\n",
    "from sklearn.metrics import roc_auc_score\n",
    "from sklearn.utils import resample"
   ]
  },
  {
   "cell_type": "markdown",
   "metadata": {},
   "source": [
    "Read the antibacterial data from the supporting material from Stokes et al into a dataframe"
   ]
  },
  {
   "cell_type": "code",
   "execution_count": 79,
   "metadata": {},
   "outputs": [],
   "source": [
    "ab_df = pd.read_excel(\"mmc1.xlsx\",sheet_name=1,skiprows=1)"
   ]
  },
  {
   "cell_type": "markdown",
   "metadata": {},
   "source": [
    "In order to be consistent with previous notebooks, set active and inactive to 1 and 0"
   ]
  },
  {
   "cell_type": "code",
   "execution_count": 81,
   "metadata": {},
   "outputs": [],
   "source": [
    "ab_df['active'] = [int(x == \"Active\") for x in ab_df.Activity]"
   ]
  },
  {
   "cell_type": "code",
   "execution_count": 82,
   "metadata": {},
   "outputs": [
    {
     "data": {
      "text/html": [
       "<div>\n",
       "<style scoped>\n",
       "    .dataframe tbody tr th:only-of-type {\n",
       "        vertical-align: middle;\n",
       "    }\n",
       "\n",
       "    .dataframe tbody tr th {\n",
       "        vertical-align: top;\n",
       "    }\n",
       "\n",
       "    .dataframe thead th {\n",
       "        text-align: right;\n",
       "    }\n",
       "</style>\n",
       "<table border=\"1\" class=\"dataframe\">\n",
       "  <thead>\n",
       "    <tr style=\"text-align: right;\">\n",
       "      <th></th>\n",
       "      <th>Mean_Inhibition</th>\n",
       "      <th>SMILES</th>\n",
       "      <th>Name</th>\n",
       "      <th>Activity</th>\n",
       "      <th>active</th>\n",
       "    </tr>\n",
       "  </thead>\n",
       "  <tbody>\n",
       "    <tr>\n",
       "      <th>0</th>\n",
       "      <td>0.041572</td>\n",
       "      <td>Cc1cc(O)c(C(=O)NC(C(=O)NC2C(=O)N3C(C(=O)O)=C(C...</td>\n",
       "      <td>CEFPIRAMIDE</td>\n",
       "      <td>Active</td>\n",
       "      <td>1</td>\n",
       "    </tr>\n",
       "    <tr>\n",
       "      <th>1</th>\n",
       "      <td>0.041876</td>\n",
       "      <td>CON=C1CN(c2nc3c(cc2F)c(=O)c(C(=O)O)cn3C2CC2)CC...</td>\n",
       "      <td>GEMIFLOXACIN MESYLATE</td>\n",
       "      <td>Active</td>\n",
       "      <td>1</td>\n",
       "    </tr>\n",
       "    <tr>\n",
       "      <th>2</th>\n",
       "      <td>0.041916</td>\n",
       "      <td>CCC(C)CCCCC(=O)NC(CCN)C(=O)NC(C(=O)NC(CCN)C(=O...</td>\n",
       "      <td>POLYMYXIN B SULFATE</td>\n",
       "      <td>Active</td>\n",
       "      <td>1</td>\n",
       "    </tr>\n",
       "    <tr>\n",
       "      <th>3</th>\n",
       "      <td>0.041964</td>\n",
       "      <td>Cl.N=C(N)n1cccn1</td>\n",
       "      <td>PRAXADINE HYDROCHLORIDE</td>\n",
       "      <td>Active</td>\n",
       "      <td>1</td>\n",
       "    </tr>\n",
       "    <tr>\n",
       "      <th>4</th>\n",
       "      <td>0.042295</td>\n",
       "      <td>Cl.Cl.N=C(NCCCCCCNC(=N)NC(=N)Nc1ccc(Cl)cc1)NC(...</td>\n",
       "      <td>CHLORHEXIDINE DIHYDROCHLORIDE</td>\n",
       "      <td>Active</td>\n",
       "      <td>1</td>\n",
       "    </tr>\n",
       "  </tbody>\n",
       "</table>\n",
       "</div>"
      ],
      "text/plain": [
       "   Mean_Inhibition                                             SMILES                           Name Activity  active\n",
       "0         0.041572  Cc1cc(O)c(C(=O)NC(C(=O)NC2C(=O)N3C(C(=O)O)=C(C...                    CEFPIRAMIDE   Active       1\n",
       "1         0.041876  CON=C1CN(c2nc3c(cc2F)c(=O)c(C(=O)O)cn3C2CC2)CC...          GEMIFLOXACIN MESYLATE   Active       1\n",
       "2         0.041916  CCC(C)CCCCC(=O)NC(CCN)C(=O)NC(C(=O)NC(CCN)C(=O...            POLYMYXIN B SULFATE   Active       1\n",
       "3         0.041964                                   Cl.N=C(N)n1cccn1        PRAXADINE HYDROCHLORIDE   Active       1\n",
       "4         0.042295  Cl.Cl.N=C(NCCCCCCNC(=N)NC(=N)Nc1ccc(Cl)cc1)NC(...  CHLORHEXIDINE DIHYDROCHLORIDE   Active       1"
      ]
     },
     "execution_count": 82,
     "metadata": {},
     "output_type": "execute_result"
    }
   ],
   "source": [
    "ab_df.head()"
   ]
  },
  {
   "cell_type": "markdown",
   "metadata": {},
   "source": [
    "Use Brian Kelley's descriptastorus to generate descritptors"
   ]
  },
  {
   "cell_type": "code",
   "execution_count": 83,
   "metadata": {},
   "outputs": [],
   "source": [
    "generator = MakeGenerator((\"RDKit2D\", \"Morgan3Counts\"))"
   ]
  },
  {
   "cell_type": "code",
   "execution_count": 84,
   "metadata": {},
   "outputs": [
    {
     "data": {
      "application/vnd.jupyter.widget-view+json": {
       "model_id": "20d338c5de8f4afcab4e0fdf9022d972",
       "version_major": 2,
       "version_minor": 0
      },
      "text/plain": [
       "HBox(children=(FloatProgress(value=0.0, max=2335.0), HTML(value='')))"
      ]
     },
     "metadata": {},
     "output_type": "display_data"
    },
    {
     "name": "stdout",
     "output_type": "stream",
     "text": [
      "\n"
     ]
    }
   ],
   "source": [
    "desc_list = [generator.process(x) for x in tqdm(ab_df.SMILES)]"
   ]
  },
  {
   "cell_type": "markdown",
   "metadata": {},
   "source": [
    "Make sure all of our descriptor calculations worked.  Descriptastorus sets the first element in the returned list to True or False to inidcate the success of the calculations."
   ]
  },
  {
   "cell_type": "code",
   "execution_count": 85,
   "metadata": {},
   "outputs": [
    {
     "data": {
      "text/plain": [
       "True    2335\n",
       "dtype: int64"
      ]
     },
     "execution_count": 85,
     "metadata": {},
     "output_type": "execute_result"
    }
   ],
   "source": [
    "desc_ok = [x[0] for x in desc_list]\n",
    "pd.Series(desc_ok).value_counts()"
   ]
  },
  {
   "cell_type": "markdown",
   "metadata": {},
   "source": [
    "Looks like everything worked, add the descriptors to the dataframe. "
   ]
  },
  {
   "cell_type": "code",
   "execution_count": 86,
   "metadata": {},
   "outputs": [],
   "source": [
    "ab_df['desc'] = [x[1:] for x in desc_list]"
   ]
  },
  {
   "cell_type": "code",
   "execution_count": 87,
   "metadata": {},
   "outputs": [
    {
     "data": {
      "text/html": [
       "<div>\n",
       "<style scoped>\n",
       "    .dataframe tbody tr th:only-of-type {\n",
       "        vertical-align: middle;\n",
       "    }\n",
       "\n",
       "    .dataframe tbody tr th {\n",
       "        vertical-align: top;\n",
       "    }\n",
       "\n",
       "    .dataframe thead th {\n",
       "        text-align: right;\n",
       "    }\n",
       "</style>\n",
       "<table border=\"1\" class=\"dataframe\">\n",
       "  <thead>\n",
       "    <tr style=\"text-align: right;\">\n",
       "      <th></th>\n",
       "      <th>Mean_Inhibition</th>\n",
       "      <th>SMILES</th>\n",
       "      <th>Name</th>\n",
       "      <th>Activity</th>\n",
       "      <th>active</th>\n",
       "      <th>desc</th>\n",
       "    </tr>\n",
       "  </thead>\n",
       "  <tbody>\n",
       "    <tr>\n",
       "      <th>0</th>\n",
       "      <td>0.041572</td>\n",
       "      <td>Cc1cc(O)c(C(=O)NC(C(=O)NC2C(=O)N3C(C(=O)O)=C(C...</td>\n",
       "      <td>CEFPIRAMIDE</td>\n",
       "      <td>Active</td>\n",
       "      <td>1</td>\n",
       "      <td>[1.3395052635747295, 1610.1816625187853, 30.12...</td>\n",
       "    </tr>\n",
       "    <tr>\n",
       "      <th>1</th>\n",
       "      <td>0.041876</td>\n",
       "      <td>CON=C1CN(c2nc3c(cc2F)c(=O)c(C(=O)O)cn3C2CC2)CC...</td>\n",
       "      <td>GEMIFLOXACIN MESYLATE</td>\n",
       "      <td>Active</td>\n",
       "      <td>1</td>\n",
       "      <td>[5.549998829416112e-07, 1265.508949285827, 24....</td>\n",
       "    </tr>\n",
       "    <tr>\n",
       "      <th>2</th>\n",
       "      <td>0.041916</td>\n",
       "      <td>CCC(C)CCCCC(=O)NC(CCN)C(=O)NC(C(=O)NC(CCN)C(=O...</td>\n",
       "      <td>POLYMYXIN B SULFATE</td>\n",
       "      <td>Active</td>\n",
       "      <td>1</td>\n",
       "      <td>[7.761161663762498e-06, 2563.1541142939495, 68...</td>\n",
       "    </tr>\n",
       "    <tr>\n",
       "      <th>3</th>\n",
       "      <td>0.041964</td>\n",
       "      <td>Cl.N=C(N)n1cccn1</td>\n",
       "      <td>PRAXADINE HYDROCHLORIDE</td>\n",
       "      <td>Active</td>\n",
       "      <td>1</td>\n",
       "      <td>[6.399999284000083e-07, 180.45752214691183, 5....</td>\n",
       "    </tr>\n",
       "    <tr>\n",
       "      <th>4</th>\n",
       "      <td>0.042295</td>\n",
       "      <td>Cl.Cl.N=C(NCCCCCCNC(=N)NC(=N)Nc1ccc(Cl)cc1)NC(...</td>\n",
       "      <td>CHLORHEXIDINE DIHYDROCHLORIDE</td>\n",
       "      <td>Active</td>\n",
       "      <td>1</td>\n",
       "      <td>[6.1249911528881385e-06, 888.2990570824002, 24...</td>\n",
       "    </tr>\n",
       "  </tbody>\n",
       "</table>\n",
       "</div>"
      ],
      "text/plain": [
       "   Mean_Inhibition                                             SMILES  ... active                                               desc\n",
       "0         0.041572  Cc1cc(O)c(C(=O)NC(C(=O)NC2C(=O)N3C(C(=O)O)=C(C...  ...      1  [1.3395052635747295, 1610.1816625187853, 30.12...\n",
       "1         0.041876  CON=C1CN(c2nc3c(cc2F)c(=O)c(C(=O)O)cn3C2CC2)CC...  ...      1  [5.549998829416112e-07, 1265.508949285827, 24....\n",
       "2         0.041916  CCC(C)CCCCC(=O)NC(CCN)C(=O)NC(C(=O)NC(CCN)C(=O...  ...      1  [7.761161663762498e-06, 2563.1541142939495, 68...\n",
       "3         0.041964                                   Cl.N=C(N)n1cccn1  ...      1  [6.399999284000083e-07, 180.45752214691183, 5....\n",
       "4         0.042295  Cl.Cl.N=C(NCCCCCCNC(=N)NC(=N)Nc1ccc(Cl)cc1)NC(...  ...      1  [6.1249911528881385e-06, 888.2990570824002, 24...\n",
       "\n",
       "[5 rows x 6 columns]"
      ]
     },
     "execution_count": 87,
     "metadata": {},
     "output_type": "execute_result"
    }
   ],
   "source": [
    "ab_df.head()"
   ]
  },
  {
   "cell_type": "markdown",
   "metadata": {},
   "source": [
    "Create an XGBoost Classifier"
   ]
  },
  {
   "cell_type": "code",
   "execution_count": 88,
   "metadata": {},
   "outputs": [],
   "source": [
    "xgb = XGBClassifier()"
   ]
  },
  {
   "cell_type": "markdown",
   "metadata": {},
   "source": [
    "Let's build quick model to see how well we predict from the internal data."
   ]
  },
  {
   "cell_type": "code",
   "execution_count": 89,
   "metadata": {},
   "outputs": [],
   "source": [
    "train,test = train_test_split(ab_df)"
   ]
  },
  {
   "cell_type": "markdown",
   "metadata": {},
   "source": [
    "Build a model with the data. "
   ]
  },
  {
   "cell_type": "code",
   "execution_count": 96,
   "metadata": {},
   "outputs": [],
   "source": [
    "x = np.array([x for x in train.desc])\n",
    "y = train.active\n",
    "xgb.fit(x,y)\n",
    "test_x = np.array([x for x in test.desc])\n",
    "xgb_prob = xgb.predict_proba(test_x)\n",
    "xgb_pred = xgb.predict(test_x)"
   ]
  },
  {
   "cell_type": "markdown",
   "metadata": {},
   "source": [
    "Make a boxplot of probabilities vs activity lables to ensure that we're looking at this the right way"
   ]
  },
  {
   "cell_type": "code",
   "execution_count": 124,
   "metadata": {},
   "outputs": [
    {
     "data": {
      "text/plain": [
       "[Text(0, 0.5, 'probability'), Text(0.5, 0, 'activity')]"
      ]
     },
     "execution_count": 124,
     "metadata": {},
     "output_type": "execute_result"
    },
    {
     "data": {
      "image/png": "[encoded data removed]",
      "text/plain": [
       "<Figure size 432x288 with 1 Axes>"
      ]
     },
     "metadata": {
      "needs_background": "light"
     },
     "output_type": "display_data"
    }
   ],
   "source": [
    "ax = sns.boxplot(xgb_pred,xgb_prob[:,1])\n",
    "ax.set(xlabel=\"activity\",ylabel=\"probability\")"
   ]
  },
  {
   "cell_type": "markdown",
   "metadata": {},
   "source": [
    "Calculate a ROC AUC for our model"
   ]
  },
  {
   "cell_type": "code",
   "execution_count": 100,
   "metadata": {},
   "outputs": [
    {
     "data": {
      "text/plain": [
       "0.8683423099940156"
      ]
     },
     "execution_count": 100,
     "metadata": {},
     "output_type": "execute_result"
    }
   ],
   "source": [
    "roc_auc_score(test.active,xgb_prob[:,1])"
   ]
  },
  {
   "cell_type": "markdown",
   "metadata": {},
   "source": [
    "This looks pretty good, now let's build a model with all of the antibiotic data. "
   ]
  },
  {
   "cell_type": "code",
   "execution_count": 101,
   "metadata": {},
   "outputs": [
    {
     "data": {
      "text/plain": [
       "XGBClassifier(base_score=0.5, booster='gbtree', colsample_bylevel=1,\n",
       "              colsample_bynode=1, colsample_bytree=1, gamma=0,\n",
       "              learning_rate=0.1, max_delta_step=0, max_depth=3,\n",
       "              min_child_weight=1, missing=None, n_estimators=100, n_jobs=1,\n",
       "              nthread=None, objective='binary:logistic', random_state=0,\n",
       "              reg_alpha=0, reg_lambda=1, scale_pos_weight=1, seed=None,\n",
       "              silent=None, subsample=1, verbosity=1)"
      ]
     },
     "execution_count": 101,
     "metadata": {},
     "output_type": "execute_result"
    }
   ],
   "source": [
    "xgb_full = XGBClassifier()\n",
    "x_full = np.array([x for x in ab_df.desc])\n",
    "y_full = ab_df.active\n",
    "xgb_full.fit(x_full,y_full)"
   ]
  },
  {
   "cell_type": "markdown",
   "metadata": {},
   "source": [
    "Now that we have a model, we can use it to make som predictions on the Broad Institute's repurposing set.  First, we'll grab this set from the web. "
   ]
  },
  {
   "cell_type": "code",
   "execution_count": 102,
   "metadata": {},
   "outputs": [],
   "source": [
    "url = \"https://s3.amazonaws.com/data.clue.io/repurposing/downloads/repurposing_samples_20180907.txt\"\n",
    "repurposing_df = pd.read_csv(url, comment = \"!\", sep=\"\\t\")"
   ]
  },
  {
   "cell_type": "markdown",
   "metadata": {},
   "source": [
    "Let's take a look at the first few rows to see what's there. "
   ]
  },
  {
   "cell_type": "code",
   "execution_count": 103,
   "metadata": {},
   "outputs": [
    {
     "data": {
      "text/html": [
       "<div>\n",
       "<style scoped>\n",
       "    .dataframe tbody tr th:only-of-type {\n",
       "        vertical-align: middle;\n",
       "    }\n",
       "\n",
       "    .dataframe tbody tr th {\n",
       "        vertical-align: top;\n",
       "    }\n",
       "\n",
       "    .dataframe thead th {\n",
       "        text-align: right;\n",
       "    }\n",
       "</style>\n",
       "<table border=\"1\" class=\"dataframe\">\n",
       "  <thead>\n",
       "    <tr style=\"text-align: right;\">\n",
       "      <th></th>\n",
       "      <th>broad_id</th>\n",
       "      <th>pert_iname</th>\n",
       "      <th>qc_incompatible</th>\n",
       "      <th>purity</th>\n",
       "      <th>vendor</th>\n",
       "      <th>catalog_no</th>\n",
       "      <th>vendor_name</th>\n",
       "      <th>expected_mass</th>\n",
       "      <th>smiles</th>\n",
       "      <th>InChIKey</th>\n",
       "      <th>pubchem_cid</th>\n",
       "      <th>deprecated_broad_id</th>\n",
       "    </tr>\n",
       "  </thead>\n",
       "  <tbody>\n",
       "    <tr>\n",
       "      <th>0</th>\n",
       "      <td>BRD-K89787693-001-01-1</td>\n",
       "      <td>[sar9,met(o2)11]-substance-p</td>\n",
       "      <td>0</td>\n",
       "      <td>NaN</td>\n",
       "      <td>Tocris</td>\n",
       "      <td>1178</td>\n",
       "      <td>2-({5-amino-2-[({1-[6-amino-2-({[1-(2-amino-5-...</td>\n",
       "      <td>1,392.73</td>\n",
       "      <td>CC(C)C[C@H](NC(=O)CN(C)C(=O)[C@H](Cc1ccccc1)NC...</td>\n",
       "      <td>OUPXSLGGCPUZJJ-SARDKLJWSA-N</td>\n",
       "      <td>163829.0</td>\n",
       "      <td>NaN</td>\n",
       "    </tr>\n",
       "    <tr>\n",
       "      <th>1</th>\n",
       "      <td>BRD-K88956297-003-01-9</td>\n",
       "      <td>1-((Z)-3-Chloroallyl)-1,3,5,7-tetraazaadamanta...</td>\n",
       "      <td>0</td>\n",
       "      <td>94.41</td>\n",
       "      <td>BidePharm</td>\n",
       "      <td>BD51690</td>\n",
       "      <td>1-((Z)-3-Chloroallyl)-1,3,5,7-tetraazaadamanta...</td>\n",
       "      <td>215.106</td>\n",
       "      <td>Cl\\C=C/C[N+]12CN3CN(CN(C3)C1)C2</td>\n",
       "      <td>LDLCEGCJYSDJLX-UPHRSURJSA-N</td>\n",
       "      <td>5846454.0</td>\n",
       "      <td>NaN</td>\n",
       "    </tr>\n",
       "    <tr>\n",
       "      <th>2</th>\n",
       "      <td>BRD-A86415025-050-01-0</td>\n",
       "      <td>1-(1,2-Diphenylethyl)piperidine-(+/-)</td>\n",
       "      <td>0</td>\n",
       "      <td>98.04</td>\n",
       "      <td>Tocris</td>\n",
       "      <td>360</td>\n",
       "      <td>(?)-1-(1,2-Diphenylethyl)piperidine maleate</td>\n",
       "      <td>265.183</td>\n",
       "      <td>C(C(N1CCCCC1)c1ccccc1)c1ccccc1</td>\n",
       "      <td>JQWJJJYHVHNXJH-UHFFFAOYSA-N</td>\n",
       "      <td>206666.0</td>\n",
       "      <td>NaN</td>\n",
       "    </tr>\n",
       "    <tr>\n",
       "      <th>3</th>\n",
       "      <td>BRD-A95802703-001-01-0</td>\n",
       "      <td>1-(2-chloro-5-methylphenoxy)-3-(isopropylamino...</td>\n",
       "      <td>0</td>\n",
       "      <td>92.38</td>\n",
       "      <td>Enamine</td>\n",
       "      <td>Z1672746675</td>\n",
       "      <td>1-(2-chloro-5-methylphenoxy)-3-(isopropylamino...</td>\n",
       "      <td>257.118</td>\n",
       "      <td>CC(C)NCC(O)COc1cc(C)ccc1Cl</td>\n",
       "      <td>NJEIOWSBPCZKTL-UHFFFAOYSA-N</td>\n",
       "      <td>20497006.0</td>\n",
       "      <td>NaN</td>\n",
       "    </tr>\n",
       "    <tr>\n",
       "      <th>4</th>\n",
       "      <td>BRD-K96055017-003-02-7</td>\n",
       "      <td>1-acetyl-4-methylpiperazine</td>\n",
       "      <td>0</td>\n",
       "      <td>90.28</td>\n",
       "      <td>Tocris</td>\n",
       "      <td>351</td>\n",
       "      <td>1-Acetyl-4-methylpiperazine hydrochloride</td>\n",
       "      <td>142.111</td>\n",
       "      <td>CN1CCN(CC1)C(C)=O</td>\n",
       "      <td>YSDBJKNOEWSFGA-UHFFFAOYSA-N</td>\n",
       "      <td>550758.0</td>\n",
       "      <td>NaN</td>\n",
       "    </tr>\n",
       "  </tbody>\n",
       "</table>\n",
       "</div>"
      ],
      "text/plain": [
       "                 broad_id                                         pert_iname  ...  pubchem_cid  deprecated_broad_id\n",
       "0  BRD-K89787693-001-01-1                       [sar9,met(o2)11]-substance-p  ...     163829.0                  NaN\n",
       "1  BRD-K88956297-003-01-9  1-((Z)-3-Chloroallyl)-1,3,5,7-tetraazaadamanta...  ...    5846454.0                  NaN\n",
       "2  BRD-A86415025-050-01-0              1-(1,2-Diphenylethyl)piperidine-(+/-)  ...     206666.0                  NaN\n",
       "3  BRD-A95802703-001-01-0  1-(2-chloro-5-methylphenoxy)-3-(isopropylamino...  ...   20497006.0                  NaN\n",
       "4  BRD-K96055017-003-02-7                        1-acetyl-4-methylpiperazine  ...     550758.0                  NaN\n",
       "\n",
       "[5 rows x 12 columns]"
      ]
     },
     "execution_count": 103,
     "metadata": {},
     "output_type": "execute_result"
    }
   ],
   "source": [
    "repurposing_df.head()"
   ]
  },
  {
   "cell_type": "markdown",
   "metadata": {},
   "source": [
    "As we saw in the previous notebook, the repurposing data contains duplicates and null values.  Let's get rid of these."
   ]
  },
  {
   "cell_type": "code",
   "execution_count": 104,
   "metadata": {},
   "outputs": [],
   "source": [
    "repurposing_df.drop_duplicates('smiles',inplace=True)\n",
    "repurposing_df.dropna(axis=0,subset=['smiles'],inplace=True)"
   ]
  },
  {
   "cell_type": "code",
   "execution_count": 105,
   "metadata": {},
   "outputs": [
    {
     "data": {
      "text/plain": [
       "(6244, 12)"
      ]
     },
     "execution_count": 105,
     "metadata": {},
     "output_type": "execute_result"
    }
   ],
   "source": [
    "repurposing_df.shape"
   ]
  },
  {
   "cell_type": "markdown",
   "metadata": {},
   "source": [
    "As above, use descriptastorus to calcualte descriptors"
   ]
  },
  {
   "cell_type": "code",
   "execution_count": 106,
   "metadata": {},
   "outputs": [
    {
     "data": {
      "application/vnd.jupyter.widget-view+json": {
       "model_id": "7bf6cf9c645a4756a129ba067aaaa39b",
       "version_major": 2,
       "version_minor": 0
      },
      "text/plain": [
       "HBox(children=(FloatProgress(value=0.0, max=6244.0), HTML(value='')))"
      ]
     },
     "metadata": {},
     "output_type": "display_data"
    },
    {
     "name": "stdout",
     "output_type": "stream",
     "text": [
      "\n"
     ]
    }
   ],
   "source": [
    "repurposing_desc_list = [generator.process(x) for x in tqdm(repurposing_df.smiles)]"
   ]
  },
  {
   "cell_type": "code",
   "execution_count": 107,
   "metadata": {},
   "outputs": [
    {
     "data": {
      "text/plain": [
       "True    6244\n",
       "dtype: int64"
      ]
     },
     "execution_count": 107,
     "metadata": {},
     "output_type": "execute_result"
    }
   ],
   "source": [
    "repurposing_desc_ok = [x[0] for x in repurposing_desc_list]\n",
    "pd.Series(repurposing_desc_ok).value_counts()"
   ]
  },
  {
   "cell_type": "code",
   "execution_count": 108,
   "metadata": {},
   "outputs": [],
   "source": [
    "repurposing_df['desc'] = [x[1:] for x in repurposing_desc_list]"
   ]
  },
  {
   "cell_type": "code",
   "execution_count": 109,
   "metadata": {},
   "outputs": [
    {
     "data": {
      "text/html": [
       "<div>\n",
       "<style scoped>\n",
       "    .dataframe tbody tr th:only-of-type {\n",
       "        vertical-align: middle;\n",
       "    }\n",
       "\n",
       "    .dataframe tbody tr th {\n",
       "        vertical-align: top;\n",
       "    }\n",
       "\n",
       "    .dataframe thead th {\n",
       "        text-align: right;\n",
       "    }\n",
       "</style>\n",
       "<table border=\"1\" class=\"dataframe\">\n",
       "  <thead>\n",
       "    <tr style=\"text-align: right;\">\n",
       "      <th></th>\n",
       "      <th>broad_id</th>\n",
       "      <th>pert_iname</th>\n",
       "      <th>qc_incompatible</th>\n",
       "      <th>purity</th>\n",
       "      <th>vendor</th>\n",
       "      <th>catalog_no</th>\n",
       "      <th>vendor_name</th>\n",
       "      <th>expected_mass</th>\n",
       "      <th>smiles</th>\n",
       "      <th>InChIKey</th>\n",
       "      <th>pubchem_cid</th>\n",
       "      <th>deprecated_broad_id</th>\n",
       "      <th>desc</th>\n",
       "    </tr>\n",
       "  </thead>\n",
       "  <tbody>\n",
       "    <tr>\n",
       "      <th>0</th>\n",
       "      <td>BRD-K89787693-001-01-1</td>\n",
       "      <td>[sar9,met(o2)11]-substance-p</td>\n",
       "      <td>0</td>\n",
       "      <td>NaN</td>\n",
       "      <td>Tocris</td>\n",
       "      <td>1178</td>\n",
       "      <td>2-({5-amino-2-[({1-[6-amino-2-({[1-(2-amino-5-...</td>\n",
       "      <td>1,392.73</td>\n",
       "      <td>CC(C)C[C@H](NC(=O)CN(C)C(=O)[C@H](Cc1ccccc1)NC...</td>\n",
       "      <td>OUPXSLGGCPUZJJ-SARDKLJWSA-N</td>\n",
       "      <td>163829.0</td>\n",
       "      <td>NaN</td>\n",
       "      <td>[1.5818916260184153, 3220.1773701867137, 72.81...</td>\n",
       "    </tr>\n",
       "    <tr>\n",
       "      <th>1</th>\n",
       "      <td>BRD-K88956297-003-01-9</td>\n",
       "      <td>1-((Z)-3-Chloroallyl)-1,3,5,7-tetraazaadamanta...</td>\n",
       "      <td>0</td>\n",
       "      <td>94.41</td>\n",
       "      <td>BidePharm</td>\n",
       "      <td>BD51690</td>\n",
       "      <td>1-((Z)-3-Chloroallyl)-1,3,5,7-tetraazaadamanta...</td>\n",
       "      <td>215.106</td>\n",
       "      <td>Cl\\C=C/C[N+]12CN3CN(CN(C3)C1)C2</td>\n",
       "      <td>LDLCEGCJYSDJLX-UPHRSURJSA-N</td>\n",
       "      <td>5846454.0</td>\n",
       "      <td>NaN</td>\n",
       "      <td>[1.8009625314016358, 230.2533564975087, 9.5960...</td>\n",
       "    </tr>\n",
       "    <tr>\n",
       "      <th>2</th>\n",
       "      <td>BRD-A86415025-050-01-0</td>\n",
       "      <td>1-(1,2-Diphenylethyl)piperidine-(+/-)</td>\n",
       "      <td>0</td>\n",
       "      <td>98.04</td>\n",
       "      <td>Tocris</td>\n",
       "      <td>360</td>\n",
       "      <td>(?)-1-(1,2-Diphenylethyl)piperidine maleate</td>\n",
       "      <td>265.183</td>\n",
       "      <td>C(C(N1CCCCC1)c1ccccc1)c1ccccc1</td>\n",
       "      <td>JQWJJJYHVHNXJH-UHFFFAOYSA-N</td>\n",
       "      <td>206666.0</td>\n",
       "      <td>NaN</td>\n",
       "      <td>[1.8288898030917446, 499.804163233686, 13.6231...</td>\n",
       "    </tr>\n",
       "    <tr>\n",
       "      <th>3</th>\n",
       "      <td>BRD-A95802703-001-01-0</td>\n",
       "      <td>1-(2-chloro-5-methylphenoxy)-3-(isopropylamino...</td>\n",
       "      <td>0</td>\n",
       "      <td>92.38</td>\n",
       "      <td>Enamine</td>\n",
       "      <td>Z1672746675</td>\n",
       "      <td>1-(2-chloro-5-methylphenoxy)-3-(isopropylamino...</td>\n",
       "      <td>257.118</td>\n",
       "      <td>CC(C)NCC(O)COc1cc(C)ccc1Cl</td>\n",
       "      <td>NJEIOWSBPCZKTL-UHFFFAOYSA-N</td>\n",
       "      <td>20497006.0</td>\n",
       "      <td>NaN</td>\n",
       "      <td>[2.41254152698502, 355.2727408671211, 12.83649...</td>\n",
       "    </tr>\n",
       "    <tr>\n",
       "      <th>4</th>\n",
       "      <td>BRD-K96055017-003-02-7</td>\n",
       "      <td>1-acetyl-4-methylpiperazine</td>\n",
       "      <td>0</td>\n",
       "      <td>90.28</td>\n",
       "      <td>Tocris</td>\n",
       "      <td>351</td>\n",
       "      <td>1-Acetyl-4-methylpiperazine hydrochloride</td>\n",
       "      <td>142.111</td>\n",
       "      <td>CN1CCN(CC1)C(C)=O</td>\n",
       "      <td>YSDBJKNOEWSFGA-UHFFFAOYSA-N</td>\n",
       "      <td>550758.0</td>\n",
       "      <td>NaN</td>\n",
       "      <td>[2.328221491209792, 127.5677964944704, 7.56047...</td>\n",
       "    </tr>\n",
       "  </tbody>\n",
       "</table>\n",
       "</div>"
      ],
      "text/plain": [
       "                 broad_id  ...                                               desc\n",
       "0  BRD-K89787693-001-01-1  ...  [1.5818916260184153, 3220.1773701867137, 72.81...\n",
       "1  BRD-K88956297-003-01-9  ...  [1.8009625314016358, 230.2533564975087, 9.5960...\n",
       "2  BRD-A86415025-050-01-0  ...  [1.8288898030917446, 499.804163233686, 13.6231...\n",
       "3  BRD-A95802703-001-01-0  ...  [2.41254152698502, 355.2727408671211, 12.83649...\n",
       "4  BRD-K96055017-003-02-7  ...  [2.328221491209792, 127.5677964944704, 7.56047...\n",
       "\n",
       "[5 rows x 13 columns]"
      ]
     },
     "execution_count": 109,
     "metadata": {},
     "output_type": "execute_result"
    }
   ],
   "source": [
    "repurposing_df.head()"
   ]
  },
  {
   "cell_type": "markdown",
   "metadata": {},
   "source": [
    "Format the descriptors for model building"
   ]
  },
  {
   "cell_type": "code",
   "execution_count": 110,
   "metadata": {},
   "outputs": [],
   "source": [
    "repurposing_x = np.array([x for x in repurposing_df.desc])"
   ]
  },
  {
   "cell_type": "markdown",
   "metadata": {},
   "source": [
    "Predict activity for the repurposing set and put this into the dataframe. "
   ]
  },
  {
   "cell_type": "code",
   "execution_count": 111,
   "metadata": {},
   "outputs": [],
   "source": [
    "repurposing_pred = xgb_full.predict_proba(repurposing_x)"
   ]
  },
  {
   "cell_type": "code",
   "execution_count": 113,
   "metadata": {},
   "outputs": [],
   "source": [
    "repurposing_df['pred'] = repurposing_pred[:,1]"
   ]
  },
  {
   "cell_type": "markdown",
   "metadata": {},
   "source": [
    "Sort the dataframe by the predicted probabilities. "
   ]
  },
  {
   "cell_type": "code",
   "execution_count": 115,
   "metadata": {},
   "outputs": [],
   "source": [
    "repurposing_df.sort_values(\"pred\",ascending=False,inplace=True)"
   ]
  },
  {
   "cell_type": "code",
   "execution_count": 116,
   "metadata": {},
   "outputs": [
    {
     "data": {
      "text/html": [
       "<div>\n",
       "<style scoped>\n",
       "    .dataframe tbody tr th:only-of-type {\n",
       "        vertical-align: middle;\n",
       "    }\n",
       "\n",
       "    .dataframe tbody tr th {\n",
       "        vertical-align: top;\n",
       "    }\n",
       "\n",
       "    .dataframe thead th {\n",
       "        text-align: right;\n",
       "    }\n",
       "</style>\n",
       "<table border=\"1\" class=\"dataframe\">\n",
       "  <thead>\n",
       "    <tr style=\"text-align: right;\">\n",
       "      <th></th>\n",
       "      <th>broad_id</th>\n",
       "      <th>pert_iname</th>\n",
       "      <th>qc_incompatible</th>\n",
       "      <th>purity</th>\n",
       "      <th>vendor</th>\n",
       "      <th>catalog_no</th>\n",
       "      <th>vendor_name</th>\n",
       "      <th>expected_mass</th>\n",
       "      <th>smiles</th>\n",
       "      <th>InChIKey</th>\n",
       "      <th>pubchem_cid</th>\n",
       "      <th>deprecated_broad_id</th>\n",
       "      <th>desc</th>\n",
       "      <th>pred</th>\n",
       "    </tr>\n",
       "  </thead>\n",
       "  <tbody>\n",
       "    <tr>\n",
       "      <th>4129</th>\n",
       "      <td>BRD-A74980173-213-01-1</td>\n",
       "      <td>gatifloxacin</td>\n",
       "      <td>0</td>\n",
       "      <td>77.22</td>\n",
       "      <td>MicroSource</td>\n",
       "      <td>1504272</td>\n",
       "      <td>GATIFLOXACIN</td>\n",
       "      <td>375.159</td>\n",
       "      <td>COc1c(N2CCNC(C)C2)c(F)cc2c1n(cc(C(O)=O)c2=O)C1CC1</td>\n",
       "      <td>XUBOMFCQGDBHNK-UHFFFAOYSA-N</td>\n",
       "      <td>4872633.0</td>\n",
       "      <td>NaN</td>\n",
       "      <td>[2.0312285638536896, 983.3041997140859, 19.292...</td>\n",
       "      <td>0.976365</td>\n",
       "    </tr>\n",
       "    <tr>\n",
       "      <th>8106</th>\n",
       "      <td>BRD-K62374253-001-07-8</td>\n",
       "      <td>rufloxacin</td>\n",
       "      <td>0</td>\n",
       "      <td>97.36</td>\n",
       "      <td>MicroSource</td>\n",
       "      <td>1502335</td>\n",
       "      <td>RUFLOXACIN HYDROCHLORIDE</td>\n",
       "      <td>363.105</td>\n",
       "      <td>CN1CCN(CC1)c1c(F)cc2c3c1SCCn3cc(C(O)=O)c2=O</td>\n",
       "      <td>NJCJBUHJQLFDSW-UHFFFAOYSA-N</td>\n",
       "      <td>4979271.0</td>\n",
       "      <td>NaN</td>\n",
       "      <td>[1.9743414651959867, 935.1055962233459, 17.714...</td>\n",
       "      <td>0.967965</td>\n",
       "    </tr>\n",
       "    <tr>\n",
       "      <th>6632</th>\n",
       "      <td>BRD-A24228527-213-01-9</td>\n",
       "      <td>ofloxacin</td>\n",
       "      <td>0</td>\n",
       "      <td>98.67</td>\n",
       "      <td>MicroSource</td>\n",
       "      <td>1502044</td>\n",
       "      <td>OFLOXACIN</td>\n",
       "      <td>361.144</td>\n",
       "      <td>CC1COc2c(N3CCN(C)CC3)c(F)cc3c2n1cc(C(O)=O)c3=O</td>\n",
       "      <td>GSDSWSVVBLHKDQ-UHFFFAOYSA-N</td>\n",
       "      <td>3288597.0</td>\n",
       "      <td>NaN</td>\n",
       "      <td>[2.004088915400979, 963.2881482992597, 18.5850...</td>\n",
       "      <td>0.966582</td>\n",
       "    </tr>\n",
       "    <tr>\n",
       "      <th>5246</th>\n",
       "      <td>BRD-K09471561-001-18-2</td>\n",
       "      <td>levofloxacin</td>\n",
       "      <td>0</td>\n",
       "      <td>97.70</td>\n",
       "      <td>MicroSource</td>\n",
       "      <td>1504260</td>\n",
       "      <td>LEVOFLOXACIN</td>\n",
       "      <td>361.144</td>\n",
       "      <td>C[C@H]1COc2c(N3CCN(C)CC3)c(F)cc3c2n1cc(C(O)=O)...</td>\n",
       "      <td>GSDSWSVVBLHKDQ-JTQLQIEISA-N</td>\n",
       "      <td>149096.0</td>\n",
       "      <td>NaN</td>\n",
       "      <td>[2.004088915400979, 963.2881482992597, 18.5850...</td>\n",
       "      <td>0.966582</td>\n",
       "    </tr>\n",
       "    <tr>\n",
       "      <th>3468</th>\n",
       "      <td>BRD-K76534306-001-22-7</td>\n",
       "      <td>enrofloxacin</td>\n",
       "      <td>0</td>\n",
       "      <td>96.46</td>\n",
       "      <td>MicroSource</td>\n",
       "      <td>1503721</td>\n",
       "      <td>ENROFLOXACIN</td>\n",
       "      <td>359.165</td>\n",
       "      <td>CCN1CCN(CC1)c1cc2n(cc(C(O)=O)c(=O)c2cc1F)C1CC1</td>\n",
       "      <td>SPFYMRJSYKOXGV-UHFFFAOYSA-N</td>\n",
       "      <td>6957639.0</td>\n",
       "      <td>NaN</td>\n",
       "      <td>[1.8342383024563755, 927.751757198637, 18.4219...</td>\n",
       "      <td>0.958741</td>\n",
       "    </tr>\n",
       "  </tbody>\n",
       "</table>\n",
       "</div>"
      ],
      "text/plain": [
       "                    broad_id    pert_iname  qc_incompatible  ...  deprecated_broad_id                                               desc      pred\n",
       "4129  BRD-A74980173-213-01-1  gatifloxacin                0  ...                  NaN  [2.0312285638536896, 983.3041997140859, 19.292...  0.976365\n",
       "8106  BRD-K62374253-001-07-8    rufloxacin                0  ...                  NaN  [1.9743414651959867, 935.1055962233459, 17.714...  0.967965\n",
       "6632  BRD-A24228527-213-01-9     ofloxacin                0  ...                  NaN  [2.004088915400979, 963.2881482992597, 18.5850...  0.966582\n",
       "5246  BRD-K09471561-001-18-2  levofloxacin                0  ...                  NaN  [2.004088915400979, 963.2881482992597, 18.5850...  0.966582\n",
       "3468  BRD-K76534306-001-22-7  enrofloxacin                0  ...                  NaN  [1.8342383024563755, 927.751757198637, 18.4219...  0.958741\n",
       "\n",
       "[5 rows x 14 columns]"
      ]
     },
     "execution_count": 116,
     "metadata": {},
     "output_type": "execute_result"
    }
   ],
   "source": [
    "repurposing_df.head()"
   ]
  },
  {
   "cell_type": "markdown",
   "metadata": {},
   "source": [
    "Create a rank order column"
   ]
  },
  {
   "cell_type": "code",
   "execution_count": 117,
   "metadata": {},
   "outputs": [],
   "source": [
    "repurposing_df['rank'] = range(0,repurposing_df.shape[0])"
   ]
  },
  {
   "cell_type": "markdown",
   "metadata": {},
   "source": [
    "Add a molecule column to the dataframe so that we can do a substructure search. "
   ]
  },
  {
   "cell_type": "code",
   "execution_count": 119,
   "metadata": {},
   "outputs": [
    {
     "data": {
      "application/vnd.jupyter.widget-view+json": {
       "model_id": "9ed4b5cc466d4e81ab1923992c7638af",
       "version_major": 2,
       "version_minor": 0
      },
      "text/plain": [
       "HBox(children=(FloatProgress(value=0.0, max=6244.0), HTML(value='')))"
      ]
     },
     "metadata": {},
     "output_type": "display_data"
    },
    {
     "name": "stdout",
     "output_type": "stream",
     "text": [
      "\n"
     ]
    }
   ],
   "source": [
    "repurposing_df['mol'] = [Chem.MolFromSmiles(x) for x in tqdm(repurposing_df.smiles)]"
   ]
  },
  {
   "cell_type": "markdown",
   "metadata": {},
   "source": [
    "Create a query molecule from Halicin"
   ]
  },
  {
   "cell_type": "code",
   "execution_count": 125,
   "metadata": {},
   "outputs": [],
   "source": [
    "halicin = Chem.MolFromSmarts(\"Nc1nnc(Sc2ncc(s2)[N+]([O-])=O)s1\")"
   ]
  },
  {
   "cell_type": "code",
   "execution_count": 126,
   "metadata": {},
   "outputs": [
    {
     "data": {
      "image/png": "[encoded data removed]",
      "text/plain": [
       "<rdkit.Chem.rdchem.Mol at 0x7f2300a1d8a0>"
      ]
     },
     "execution_count": 126,
     "metadata": {},
     "output_type": "execute_result"
    }
   ],
   "source": [
    "halicin"
   ]
  },
  {
   "cell_type": "markdown",
   "metadata": {},
   "source": [
    "Do the substructure search and show the matching row. "
   ]
  },
  {
   "cell_type": "code",
   "execution_count": 122,
   "metadata": {},
   "outputs": [
    {
     "data": {
      "application/vnd.jupyter.widget-view+json": {
       "model_id": "0f97bd2bff6f41df80e8c1860efe950d",
       "version_major": 2,
       "version_minor": 0
      },
      "text/plain": [
       "HBox(children=(FloatProgress(value=0.0, max=6244.0), HTML(value='')))"
      ]
     },
     "metadata": {},
     "output_type": "display_data"
    },
    {
     "name": "stdout",
     "output_type": "stream",
     "text": [
      "\n"
     ]
    },
    {
     "data": {
      "text/html": [
       "<div>\n",
       "<style scoped>\n",
       "    .dataframe tbody tr th:only-of-type {\n",
       "        vertical-align: middle;\n",
       "    }\n",
       "\n",
       "    .dataframe tbody tr th {\n",
       "        vertical-align: top;\n",
       "    }\n",
       "\n",
       "    .dataframe thead th {\n",
       "        text-align: right;\n",
       "    }\n",
       "</style>\n",
       "<table border=\"1\" class=\"dataframe\">\n",
       "  <thead>\n",
       "    <tr style=\"text-align: right;\">\n",
       "      <th></th>\n",
       "      <th>broad_id</th>\n",
       "      <th>pert_iname</th>\n",
       "      <th>qc_incompatible</th>\n",
       "      <th>purity</th>\n",
       "      <th>vendor</th>\n",
       "      <th>catalog_no</th>\n",
       "      <th>vendor_name</th>\n",
       "      <th>expected_mass</th>\n",
       "      <th>smiles</th>\n",
       "      <th>InChIKey</th>\n",
       "      <th>pubchem_cid</th>\n",
       "      <th>deprecated_broad_id</th>\n",
       "      <th>desc</th>\n",
       "      <th>pred</th>\n",
       "      <th>rank</th>\n",
       "      <th>mol</th>\n",
       "      <th>match</th>\n",
       "    </tr>\n",
       "  </thead>\n",
       "  <tbody>\n",
       "    <tr>\n",
       "      <th>8722</th>\n",
       "      <td>BRD-K32730239-001-01-0</td>\n",
       "      <td>SU3327</td>\n",
       "      <td>0</td>\n",
       "      <td>94.58</td>\n",
       "      <td>Tocris</td>\n",
       "      <td>3607</td>\n",
       "      <td>SU 3327</td>\n",
       "      <td>260.945</td>\n",
       "      <td>Nc1nnc(Sc2ncc(s2)[N+]([O-])=O)s1</td>\n",
       "      <td>NQQBNZBOOHHVQP-UHFFFAOYSA-N</td>\n",
       "      <td>11837140.0</td>\n",
       "      <td>NaN</td>\n",
       "      <td>[2.1404489309233523, 494.32877134531054, 10.83...</td>\n",
       "      <td>0.046852</td>\n",
       "      <td>764</td>\n",
       "      <td>&lt;rdkit.Chem.rdchem.Mol object at 0x7f22c9c956c0&gt;</td>\n",
       "      <td>True</td>\n",
       "    </tr>\n",
       "  </tbody>\n",
       "</table>\n",
       "</div>"
      ],
      "text/plain": [
       "                    broad_id pert_iname  qc_incompatible  purity  ...      pred rank                                               mol match\n",
       "8722  BRD-K32730239-001-01-0     SU3327                0   94.58  ...  0.046852  764  <rdkit.Chem.rdchem.Mol object at 0x7f22c9c956c0>  True\n",
       "\n",
       "[1 rows x 17 columns]"
      ]
     },
     "execution_count": 122,
     "metadata": {},
     "output_type": "execute_result"
    }
   ],
   "source": [
    "repurposing_df['match'] = [x.HasSubstructMatch(halicin) for x in tqdm(repurposing_df.mol)]\n",
    "repurposing_df.query(\"match\")"
   ]
  },
  {
   "cell_type": "markdown",
   "metadata": {},
   "source": [
    "In this case, Halicin ranks 765, much lower than what we saw with ChemProp"
   ]
  },
  {
   "cell_type": "code",
   "execution_count": 127,
   "metadata": {},
   "outputs": [],
   "source": [
    "def rebalance_data(df_in):\n",
    "    df_active = df_in.query(\"active == 1\")\n",
    "    df_inactive = df_in.query(\"active == 0\")\n",
    "    df_active_upsample = resample(df_active,replace=True,n_samples=df_inactive.shape[0])\n",
    "    df_upsample = df_inactive.append(df_active_upsample)\n",
    "    return df_upsample"
   ]
  },
  {
   "cell_type": "code",
   "execution_count": null,
   "metadata": {},
   "outputs": [],
   "source": []
  }
 ],
 "metadata": {
  "kernelspec": {
   "display_name": "Environment (conda_chemprop)",
   "language": "python",
   "name": "conda_chemprop"
  },
  "language_info": {
   "codemirror_mode": {
    "name": "ipython",
    "version": 3
   },
   "file_extension": ".py",
   "mimetype": "text/x-python",
   "name": "python",
   "nbconvert_exporter": "python",
   "pygments_lexer": "ipython3",
   "version": "3.6.7"
  }
 },
 "nbformat": 4,
 "nbformat_minor": 4
}
